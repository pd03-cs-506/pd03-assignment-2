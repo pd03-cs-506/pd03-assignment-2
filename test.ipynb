{
 "cells": [
  {
   "cell_type": "code",
   "execution_count": 43,
   "metadata": {},
   "outputs": [
    {
     "name": "stdout",
     "output_type": "stream",
     "text": [
      "[-0.6160024395881578]\n",
      "[9.383997560411842]\n",
      "4.383997560411842\n",
      "[-0.6160024395881578, 4.383997560411842]\n",
      "[9.383997560411842, 5.616002439588158]\n",
      "4.691998780205921\n",
      "[-0.6160024395881578, 4.383997560411842, 4.691998780205921]\n",
      "[9.383997560411842, 5.616002439588158, 5.308001219794079]\n",
      "4.794665853470614\n",
      "[-0.6160024395881578, 4.383997560411842, 4.691998780205921, 4.794665853470614]\n"
     ]
    }
   ],
   "source": [
    "import random   \n",
    "import matplotlib.pyplot as plt\n",
    "import statistics\n",
    "\n",
    "x_indices = [random.uniform(-10, 10)] \n",
    "y_indices = [random.uniform(-10, 10)]\n",
    "print(x_indices)\n",
    "x_indices_new, y_indices_new = [], []\n",
    "\n",
    "for i in range(3):\n",
    "# find rest of points\n",
    "    x = list(map(lambda x: abs(10-abs(x)), x_indices))\n",
    "    y = list(map(lambda y: abs(10-abs(y)), y_indices))\n",
    "    print(x)\n",
    "    new_x = statistics.mean(x_indices + x)\n",
    "    new_y = statistics.mean(y_indices + y)\n",
    "    print(new_x)\n",
    "\n",
    "    x_indices.append((new_x))\n",
    "    y_indices.append((new_y))\n",
    "    print(x_indices)\n",
    "\n",
    "\n",
    "# print(x_indices_new)\n",
    "# print('======')\n",
    "# print(y_indices_new)\n",
    "\n",
    "indices = []\n",
    "for i in range(len(x_indices)):\n",
    "    indices.append([x_indices[i], y_indices[i]])"
   ]
  },
  {
   "cell_type": "code",
   "execution_count": 34,
   "metadata": {},
   "outputs": [
    {
     "data": {
      "text/plain": [
       "[-9.73598690921177]"
      ]
     },
     "execution_count": 34,
     "metadata": {},
     "output_type": "execute_result"
    }
   ],
   "source": [
    "x_indices"
   ]
  },
  {
   "cell_type": "code",
   "execution_count": 39,
   "metadata": {},
   "outputs": [
    {
     "data": {
      "text/plain": [
       "0.26401309078823054"
      ]
     },
     "execution_count": 39,
     "metadata": {},
     "output_type": "execute_result"
    }
   ],
   "source": [
    "abs(10-abs(x_indices[0]))"
   ]
  },
  {
   "cell_type": "code",
   "execution_count": 28,
   "metadata": {},
   "outputs": [
    {
     "data": {
      "text/plain": [
       "[1.7226969446345635]"
      ]
     },
     "execution_count": 28,
     "metadata": {},
     "output_type": "execute_result"
    }
   ],
   "source": [
    "y_indices"
   ]
  },
  {
   "cell_type": "code",
   "execution_count": 3,
   "metadata": {},
   "outputs": [
    {
     "data": {
      "text/plain": [
       "<matplotlib.collections.PathCollection at 0x10b2f85b0>"
      ]
     },
     "execution_count": 3,
     "metadata": {},
     "output_type": "execute_result"
    },
    {
     "data": {
      "image/png": "[encoded data removed]",
      "text/plain": [
       "<Figure size 640x480 with 1 Axes>"
      ]
     },
     "metadata": {},
     "output_type": "display_data"
    }
   ],
   "source": [
    "fig, ax = plt.subplots()\n",
    "ax.scatter(x_indices, y_indices)"
   ]
  },
  {
   "cell_type": "code",
   "execution_count": null,
   "metadata": {},
   "outputs": [],
   "source": [
    "fig, ax = plt.subplots()\n",
    "ax.scatter(x_indices_new, y_indices_new)"
   ]
  }
 ],
 "metadata": {
  "kernelspec": {
   "display_name": "venv",
   "language": "python",
   "name": "python3"
  },
  "language_info": {
   "codemirror_mode": {
    "name": "ipython",
    "version": 3
   },
   "file_extension": ".py",
   "mimetype": "text/x-python",
   "name": "python",
   "nbconvert_exporter": "python",
   "pygments_lexer": "ipython3",
   "version": "3.9.6"
  }
 },
 "nbformat": 4,
 "nbformat_minor": 2
}
